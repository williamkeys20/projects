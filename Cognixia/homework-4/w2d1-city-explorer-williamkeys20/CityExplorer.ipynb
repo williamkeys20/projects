{
 "cells": [
  {
   "cell_type": "markdown",
   "metadata": {},
   "source": [
    "# City Explorer\n",
    "---\n",
    "\n",
    "## Objective\n",
    "---\n",
    "\n",
    "This game will simulate an exploration of a city using while loops, collections, iterators, and for loops. You are tasked with completing the functions below so the game loop can run without interruption. Follow the instructions above each function to complete the missing peices.\n",
    "\n",
    "The game will:\n",
    "  - Prompt the user at each city block to make a decision: continue exploring or take a break.\n",
    "  - Utilize loops to maintain the adventure until the user decides to take a break.\n",
    "  - Keep track of the character's progress using suitable data structures.\n",
    "  - Print messages about the character's current location, interesting places, and overall exploration.\n",
    "\n",
    "       "
   ]
  },
  {
   "cell_type": "markdown",
   "metadata": {},
   "source": [
    "#### Function 1: initialize_character\n",
    "- **Parameters:** _None_\n",
    "- **Returns:** _A dictionary representing the initialized character with default attributes._\n",
    "\n",
    "\n",
    "INSTRUCTIONS\n",
    "\n",
    "------\n",
    "\n",
    "Initialize the character with default attributes\n",
    "\n",
    "The dictionary should have energy=50, money=0, and inventory should be an empty list"
   ]
  },
  {
   "cell_type": "code",
   "execution_count": 72,
   "metadata": {},
   "outputs": [],
   "source": [
    "def initialize_character():\n",
    "    character = {\"energy\": 50, \"money\": 0, \"inventory\": []}\n",
    "    \n",
    "\n",
    "\n",
    "    ## BEGIN SOLUTION\n",
    "    \n",
    "    ## END SOLUTION\n"
   ]
  },
  {
   "cell_type": "markdown",
   "metadata": {},
   "source": [
    "#### Function 2: initialize_city_layout\n",
    "- **Parameters:** _None_\n",
    "- **Returns:** _A list of dictionaries representing the layout of the city with default blocks and places._\n",
    "\n",
    "\n",
    "City Structure\n",
    "\n",
    "City Layout:\n",
    "                                     \n",
    "|Block Number | Block Name|Places on Block|\n",
    "|:--- | :--- | :--- |\n",
    "| **0** | Downtown   | Park, Cafe, Bookstore                             |  \n",
    "| **1** | Residential Area    | Supermarket, Gym, Library               |\n",
    "| **2** | Industrial Zone |  Factory, Warehouse, Lab                     |\n",
    "| **3** | Entertainment District   | Theater, Nightclub, Arcade         |\n",
    "| **4** |Park and Recreation Area     |  Zoo, Playground, Sports Field  |\n"
   ]
  },
  {
   "cell_type": "code",
   "execution_count": 73,
   "metadata": {},
   "outputs": [],
   "source": [
    "def initialize_city_layout():\n",
    "    # Initialize the city layout with default blocks, places, items, and money\n",
    "    city_layout = [\n",
    "    {'block': 0, 'name': 'Downtown', 'places': [\n",
    "        {'name': 'Park', 'items': ['Frisbee', 'Sunscreen'], 'money': 10},\n",
    "        {'name': 'Cafe', 'items': ['Coffee', 'Pastry'], 'money': 15},\n",
    "        {'name': 'Bookstore', 'items': ['Book', 'Notebook'], 'money': 5}\n",
    "    ]},\n",
    "    \n",
    "    {'block': 1, 'name': 'Residential Area', 'places': [\n",
    "        {'name': 'Supermarket', 'items': ['Groceries', 'Snacks'], 'money': 20},\n",
    "        {'name': 'Gym', 'items': ['Protein Shake', 'Towel'], 'money': 8},\n",
    "        {'name': 'Library', 'items': ['Novel', 'Magazine'], 'money': 3}\n",
    "    ]},\n",
    "    \n",
    "    {'block': 2, 'name': 'Industrial Zone', 'places': [\n",
    "        {'name': 'Factory', 'items': ['Toolbox', 'Blueprints'], 'money': 12},\n",
    "        {'name': 'Warehouse', 'items': ['Pallet Jack', 'Safety Vest'], 'money': 18},\n",
    "        {'name': 'Lab', 'items': ['Microscope', 'Chemicals'], 'money': 7}\n",
    "    ]},\n",
    "    \n",
    "    {'block': 3, 'name': 'Entertainment District', 'places': [\n",
    "        {'name': 'Theater', 'items': ['Ticket Stub', 'Popcorn'], 'money': 25},\n",
    "        {'name': 'Nightclub', 'items': ['Glow Sticks', 'Cocktail Umbrella'], 'money': 30},\n",
    "        {'name': 'Arcade', 'items': ['Game Token', 'High Score Certificate'], 'money': 10}\n",
    "    ]},\n",
    "    \n",
    "    {'block': 4, 'name': 'Park and Recreation Area', 'places': [\n",
    "        {'name': 'Zoo', 'items': ['Map', 'Animal Fact Sheet'], 'money': 15},\n",
    "        {'name': 'Playground', 'items': ['Bouncy Ball', 'Jump Rope'], 'money': 5},\n",
    "        {'name': 'Sports Field', 'items': ['Soccer Ball', 'Water Bottle'], 'money': 8}\n",
    "    ]}\n",
    "    ]\n",
    "    return city_layout"
   ]
  },
  {
   "cell_type": "markdown",
   "metadata": {},
   "source": [
    "#### Function 3: display_current_location\n",
    "- **Parameters:** *city (list), current_block (dict)*\n",
    "- **Returns:** _None (Prints messages about the character's current location)_\n",
    "\n",
    "INSTRUCTIONS\n",
    "\n",
    "------\n",
    "\n",
    "Print the names of all available places on a given block\n",
    "\n",
    "Note: \n",
    "  - city is a list of dictonaries. \n",
    "  - Each dictionary within the list holds the information for a block\n",
    "  - current_block is an integer representing which block within our city we are on"
   ]
  },
  {
   "cell_type": "code",
   "execution_count": 74,
   "metadata": {},
   "outputs": [],
   "source": [
    "def display_current_location(city, current_block):\n",
    "    # Print messages about the character's current location\n",
    "    print(f\"Current Location: {city[current_block]['name']}\")\n",
    "    print(f\"Available places:\")\n",
    "    for location in city:\n",
    "        print(city[location]['names'])\n",
    "\n",
    "   \n",
    "        \n",
    "\n",
    "    #Use a loop to print out the names of all places on the current block\n",
    "    ### BEGIN SOLUTION\n",
    "\n",
    "    ### END SOLUTION\n"
   ]
  },
  {
   "cell_type": "markdown",
   "metadata": {},
   "source": [
    "#### Function 4: add_to_inventory\n",
    "- **Parameters:** _character (dict), Item(list)_\n",
    "- **Returns:** _None (Updates character's inventory)_\n",
    "\n",
    "INSTRUCTIONS\n",
    "\n",
    "------\n",
    "\n",
    "Add the entire contents of the list _item_ to the character's inventory\n",
    "\n",
    "Note:\n",
    "  - character is a dictionary object containing the character's data"
   ]
  },
  {
   "cell_type": "code",
   "execution_count": 75,
   "metadata": {},
   "outputs": [],
   "source": [
    "def add_to_inventory(character, item):\n",
    "    #item is a list of items to add to the character's inventory\n",
    "    character[\"inventory\"] = item\n",
    "\n",
    "    ### BEGIN SOLUTION\n",
    "\n",
    "    ### END SOLUTION"
   ]
  },
  {
   "cell_type": "markdown",
   "metadata": {},
   "source": [
    "#### Function 5: display_inventory\n",
    "- **Parameters:** _character (dict)_\n",
    "- **Returns:** _None (Prints messages about the character's inventory)_\n",
    "\n",
    "INSTRUCTIONS\n",
    "\n",
    "------\n",
    "\n",
    "Iterate through the character's inventory and print out each item on a new line"
   ]
  },
  {
   "cell_type": "code",
   "execution_count": 76,
   "metadata": {},
   "outputs": [],
   "source": [
    "def display_inventory(character):\n",
    "    print('Current Inventory:')\n",
    "    #Print all items in the character's inventory\n",
    "    myit = iter(character)\n",
    "\n",
    "    print(next(myit))\n",
    "    print(next(myit))\n",
    "    ### BEGIN SOLUTION\n",
    "\n",
    "    ### END SOLUTION"
   ]
  },
  {
   "cell_type": "markdown",
   "metadata": {},
   "source": [
    "#### Function 6: display_char_stats\n",
    "- **Parameters:** _character (dict)_\n",
    "- **Returns:** _None (Prints messages about the character's energy and money)_"
   ]
  },
  {
   "cell_type": "code",
   "execution_count": 77,
   "metadata": {},
   "outputs": [],
   "source": [
    "def display_char_stats(character):\n",
    "    print(f\"Character Energy: {character['energy']}\\nCharacter Money: ${character['money']}\")"
   ]
  },
  {
   "cell_type": "markdown",
   "metadata": {},
   "source": [
    "#### Function 7: explore_location\n",
    "- **Parameters:** *character (dict), current_block (dict)*\n",
    "- **Returns:** _None (Prints messages about the exploration and updates character's attributes)_\n",
    "\n",
    "INSTRUCTIONS\n",
    "\n",
    "------\n",
    "If a user chooses to search a specific location, then 3 effects will occur\n",
    "- The user will take all items at that specific location\n",
    "  - The items must be added to the character's inventory (this is handled by our add_to_inventory function)\n",
    "  - The items must also be removed from the location (No magic duplicates here!)\n",
    "- The user will take all money at the location\n",
    "  - The money should be added to the character's money\n",
    "  - The money should be subtracted from the location's money (Money tree's aren't real!)\n",
    "- The character's energy will decrease by the number of items taken (Taking items costs energy)\n",
    "\n",
    "\n",
    "Note:\n",
    "- *current_block* is a dictionary object of the current block\n",
    "  - EX: \n",
    "\n",
    "  ```\n",
    "      {'block': 0, \n",
    "      'name': 'Downtown', \n",
    "      'places': \n",
    "      [\n",
    "          {'name': 'Park', 'items': ['Frisbee', 'Sunscreen'], 'money': 10},\n",
    "          {'name': 'Cafe', 'items': ['Coffee', 'Pastry'], 'money': 15},\n",
    "          {'name': 'Bookstore', 'items': ['Book', 'Notebook'], 'money': 5}\n",
    "      ]\n",
    "    }```"
   ]
  },
  {
   "cell_type": "code",
   "execution_count": 78,
   "metadata": {},
   "outputs": [],
   "source": [
    "def explore_location(character, current_block):\n",
    "    for place in current_block['places']: #iterates through each place available on a block\n",
    "        \n",
    "        ans = input(f\"Would you like to search {place['name']}?(Y/N)\").lower()\n",
    "        \n",
    "        if(ans == \"y\"): \n",
    "            add_to_inventory(character, place['items']) #Add items to our inventory\n",
    "            place['items'] = list(set(['items']))\n",
    "            for key, value in current_block['money'].items():\n",
    "                character['money'] += value\n",
    "                current_block['money'] = 0\n",
    "            \n",
    "            character['energy'] -=len(place['items'])\n",
    "\n",
    "            ### BEGIN SOLUTION\n",
    "\n",
    "            ### END SOLUTION\n",
    "\n",
    "            #Print the updated stats of the character after searching specific locations\n",
    "            print(f\"Place: {place['name']}\")\n",
    "            print(\"STATUS UPDATE:..........\")\n",
    "            display_char_stats(character)\n",
    "            display_inventory(character)\n",
    "            print('\\n')"
   ]
  },
  {
   "cell_type": "markdown",
   "metadata": {},
   "source": [
    "#### Function 9: take_a_break\n",
    "- **Parameters:** _None_\n",
    "- **Returns:** _Boolean value indicating whether the character wants to take a break (True) or continue exploring (False)_\n"
   ]
  },
  {
   "cell_type": "code",
   "execution_count": 79,
   "metadata": {},
   "outputs": [],
   "source": [
    "def take_a_break():\n",
    "    # Prompt the user to take a break or continue exploring\n",
    "    answer = input(\"Would you like to stop? (Y/N): \").lower()\n",
    "    if(answer == \"y\"):\n",
    "        return True\n",
    "    else: \n",
    "        return False"
   ]
  },
  {
   "cell_type": "markdown",
   "metadata": {},
   "source": [
    "#### Function 10: main\n",
    "- **Parameters:** _None_\n",
    "- **Returns:** _None (Calls other functions to execute the main program)_"
   ]
  },
  {
   "cell_type": "code",
   "execution_count": 80,
   "metadata": {},
   "outputs": [
    {
     "ename": "TypeError",
     "evalue": "'NoneType' object is not subscriptable",
     "output_type": "error",
     "traceback": [
      "\u001b[1;31m---------------------------------------------------------------------------\u001b[0m",
      "\u001b[1;31mTypeError\u001b[0m                                 Traceback (most recent call last)",
      "Cell \u001b[1;32mIn[80], line 37\u001b[0m\n\u001b[0;32m     35\u001b[0m \u001b[38;5;66;03m# Call the main function to start the program\u001b[39;00m\n\u001b[0;32m     36\u001b[0m \u001b[38;5;28;01mif\u001b[39;00m \u001b[38;5;18m__name__\u001b[39m \u001b[38;5;241m==\u001b[39m \u001b[38;5;124m\"\u001b[39m\u001b[38;5;124m__main__\u001b[39m\u001b[38;5;124m\"\u001b[39m:\n\u001b[1;32m---> 37\u001b[0m     \u001b[43mmain\u001b[49m\u001b[43m(\u001b[49m\u001b[43m)\u001b[49m\n",
      "Cell \u001b[1;32mIn[80], line 13\u001b[0m, in \u001b[0;36mmain\u001b[1;34m()\u001b[0m\n\u001b[0;32m      8\u001b[0m \u001b[38;5;66;03m# The game will loop until the player's decide to take a break\u001b[39;00m\n\u001b[0;32m      9\u001b[0m \u001b[38;5;66;03m# A break should be automatically enforced once a character's energy reachees 0\u001b[39;00m\n\u001b[0;32m     10\u001b[0m \u001b[38;5;28;01mwhile\u001b[39;00m(stop\u001b[38;5;241m==\u001b[39m\u001b[38;5;28;01mFalse\u001b[39;00m):\n\u001b[0;32m     11\u001b[0m     \u001b[38;5;66;03m# First we will display all required information\u001b[39;00m\n\u001b[0;32m     12\u001b[0m     \u001b[38;5;66;03m# These functions provide the user with a clear view of the game\u001b[39;00m\n\u001b[1;32m---> 13\u001b[0m     \u001b[43mdisplay_char_stats\u001b[49m\u001b[43m(\u001b[49m\u001b[43mcharacter\u001b[49m\u001b[43m)\u001b[49m\n\u001b[0;32m     14\u001b[0m     \u001b[38;5;28mprint\u001b[39m(\u001b[38;5;124m'\u001b[39m\u001b[38;5;130;01m\\n\u001b[39;00m\u001b[38;5;124m'\u001b[39m) \u001b[38;5;66;03m#To print a new line break in between function print statements\u001b[39;00m\n\u001b[0;32m     15\u001b[0m     display_inventory(character)\n",
      "Cell \u001b[1;32mIn[77], line 2\u001b[0m, in \u001b[0;36mdisplay_char_stats\u001b[1;34m(character)\u001b[0m\n\u001b[0;32m      1\u001b[0m \u001b[38;5;28;01mdef\u001b[39;00m \u001b[38;5;21mdisplay_char_stats\u001b[39m(character):\n\u001b[1;32m----> 2\u001b[0m     \u001b[38;5;28mprint\u001b[39m(\u001b[38;5;124mf\u001b[39m\u001b[38;5;124m\"\u001b[39m\u001b[38;5;124mCharacter Energy: \u001b[39m\u001b[38;5;132;01m{\u001b[39;00m\u001b[43mcharacter\u001b[49m\u001b[43m[\u001b[49m\u001b[38;5;124;43m'\u001b[39;49m\u001b[38;5;124;43menergy\u001b[39;49m\u001b[38;5;124;43m'\u001b[39;49m\u001b[43m]\u001b[49m\u001b[38;5;132;01m}\u001b[39;00m\u001b[38;5;130;01m\\n\u001b[39;00m\u001b[38;5;124mCharacter Money: $\u001b[39m\u001b[38;5;132;01m{\u001b[39;00mcharacter[\u001b[38;5;124m'\u001b[39m\u001b[38;5;124mmoney\u001b[39m\u001b[38;5;124m'\u001b[39m]\u001b[38;5;132;01m}\u001b[39;00m\u001b[38;5;124m\"\u001b[39m)\n",
      "\u001b[1;31mTypeError\u001b[0m: 'NoneType' object is not subscriptable"
     ]
    }
   ],
   "source": [
    "def main():\n",
    "    # Call initialize_character and initialize_city_layout to set up the character and city\n",
    "    character = initialize_character()\n",
    "    city = initialize_city_layout()\n",
    "    current_block = 0\n",
    "    stop=False\n",
    "    \n",
    "    # The game will loop until the player's decide to take a break\n",
    "    # A break should be automatically enforced once a character's energy reachees 0\n",
    "    while(stop==False):\n",
    "        # First we will display all required information\n",
    "        # These functions provide the user with a clear view of the game\n",
    "        display_char_stats(character)\n",
    "        print('\\n') #To print a new line break in between function print statements\n",
    "        display_inventory(character)\n",
    "        print('\\n') #To print a new line break in between function print statements\n",
    "        display_current_location(city,current_block)\n",
    "        print('\\n') #To print a new line break in between function print statements\n",
    "        \n",
    "\n",
    "        answer = input(\"Would you like to search the places on this block (Y/N): \").lower()\n",
    "        if (answer == 'n'): #Move to the next block\n",
    "            current_block = (current_block+1)%5\n",
    "            character['energy']-=1\n",
    "        \n",
    "        elif(answer =='y'): #Search the place of user choice\n",
    "            print(\"--------------Exploring...... -----------------\")\n",
    "            explore_location(character, city[current_block])\n",
    "            print(\"--------------complete-------------------------\")\n",
    "\n",
    "        print(\"______________________________________________________\")\n",
    "        stop=take_a_break()\n",
    "\n",
    "\n",
    "# Call the main function to start the program\n",
    "if __name__ == \"__main__\":\n",
    "    main()"
   ]
  }
 ],
 "metadata": {
  "kernelspec": {
   "display_name": "base",
   "language": "python",
   "name": "python3"
  },
  "language_info": {
   "codemirror_mode": {
    "name": "ipython",
    "version": 3
   },
   "file_extension": ".py",
   "mimetype": "text/x-python",
   "name": "python",
   "nbconvert_exporter": "python",
   "pygments_lexer": "ipython3",
   "version": "3.10.11"
  }
 },
 "nbformat": 4,
 "nbformat_minor": 2
}
