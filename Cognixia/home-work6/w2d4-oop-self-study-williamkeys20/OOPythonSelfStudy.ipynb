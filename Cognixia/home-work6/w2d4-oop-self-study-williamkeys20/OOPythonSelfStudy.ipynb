{
 "cells": [
  {
   "cell_type": "markdown",
   "metadata": {},
   "source": [
    "# OOP in Python\n",
    "---\n",
    "\n",
    "Here we will review foundational concepts behind object orientated programming (OOP) and take a look at how it is implemented in Python. If you would like to look at a pdf providing an overview of the concepts demonstrated here, follow the link for [OOP in Python](https://drive.google.com/file/d/1OUbNNGXB7Qd6dhXig9RPY8ABEeihvUoS/view?usp=sharing)\n",
    "\n",
    "\n",
    "--- \n",
    "In this assignment, there is a guided overview and a challenge section\n",
    "- **Guided Overview:** Includes explanations and a code demonstration to help you understand how OOP principles are implemented in Python. Observe and run all cells.\n",
    "- **Challenge:** Includes 3 tasks with explanations. You will be required to submit the appropiate code."
   ]
  },
  {
   "cell_type": "markdown",
   "metadata": {},
   "source": [
    "# Guided Overview\n",
    "---\n",
    "Below are guided cells to demonstrate different concepts in OOP. Feel free to run them and see how they function. "
   ]
  },
  {
   "cell_type": "markdown",
   "metadata": {},
   "source": [
    "### Classes and Objects:\n",
    "\n",
    "#### Let's define a class with attributes and methods:\n",
    "\n",
    "- Object Oriented Programming is a paradigm based on the concept of using classes to define objects\n",
    "- Classes are blueprints, defining the data and\n",
    "behavior of objects\n",
    "    - Attributes are data members\n",
    "    - Methods are behaviors\n",
    "- Objects are instances of classes\n",
    "    - Objects have their own data as modeled by the\n",
    "class\n",
    "\n",
    "- Python is a Purely Object Oriented language\n",
    "\n",
    "In Python, a class is defined using the `class` keyword. Let's create a simple `Car` class with attributes `make`, `model`, and `year`, along with a method `display_info()`.\n",
    "\n",
    "---\n",
    "In this example:\n",
    "\n",
    "- The `__init__` method is a special method called a constructor. It initializes the object's attributes when the object is created.\n",
    "- The `display_info` method returns a formatted string with information about the car."
   ]
  },
  {
   "cell_type": "code",
   "execution_count": 1,
   "metadata": {},
   "outputs": [
    {
     "name": "stdout",
     "output_type": "stream",
     "text": [
      "2022 Toyota Camry\n",
      "2023 Toyota Camry\n"
     ]
    }
   ],
   "source": [
    "class Car:\n",
    "    def __init__(self, make, model, year):\n",
    "        self.make = make\n",
    "        self.model = model\n",
    "        self.year = year\n",
    "\n",
    "    def display_info(self):\n",
    "        return f\"{self.year} {self.make} {self.model}\"\n",
    "\n",
    "# Create an instance of the Car class\n",
    "my_car = Car(\"Toyota\", \"Camry\", 2022)\n",
    "\n",
    "# Access and modify attributes\n",
    "print(my_car.display_info())  # Output: 2022 Toyota Camry\n",
    "\n",
    "# Modify the 'year' attribute\n",
    "my_car.year = 2023\n",
    "print(my_car.display_info())  # Output: 2023 Toyota Camry\n"
   ]
  },
  {
   "cell_type": "markdown",
   "metadata": {},
   "source": [
    "**Let's see how to call methods on objects:**\n",
    "\n",
    "Now, let's call the display_info method on the created object."
   ]
  },
  {
   "cell_type": "code",
   "execution_count": 2,
   "metadata": {},
   "outputs": [
    {
     "name": "stdout",
     "output_type": "stream",
     "text": [
      "2023 Toyota Camry\n"
     ]
    }
   ],
   "source": [
    "# Call the display_info method\n",
    "car_info = my_car.display_info()\n",
    "print(car_info)  # Output: 2023 Toyota Camry"
   ]
  },
  {
   "cell_type": "markdown",
   "metadata": {},
   "source": [
    "#### Encapsulation:\n",
    "In Python, encapsulation is achieved by marking attributes or methods as private using a double underscore `__`. Let's modify our `Car` class to encapsulate the `year` attribute.\n",
    "\n",
    "---\n",
    "Here, the `year` attribute is encapsulated, and we provide a method `get_year()` to access it."
   ]
  },
  {
   "cell_type": "code",
   "execution_count": 3,
   "metadata": {},
   "outputs": [
    {
     "name": "stdout",
     "output_type": "stream",
     "text": [
      "2022\n"
     ]
    }
   ],
   "source": [
    "class Car:\n",
    "    def __init__(self, make, model, year):\n",
    "        self.make = make\n",
    "        self.model = model\n",
    "        self.__year = year  # Encapsulate 'year'\n",
    "\n",
    "    def display_info(self):\n",
    "        return f\"{self.__year} {self.make} {self.model}\"\n",
    "\n",
    "    def get_year(self):\n",
    "        return self.__year\n",
    "\n",
    "# Create an instance of the Car class\n",
    "my_car = Car(\"Toyota\", \"Camry\", 2022)\n",
    "\n",
    "# Access the encapsulated 'year' attribute using a method\n",
    "year = my_car.get_year()\n",
    "print(year)  # Output: 2022\n"
   ]
  },
  {
   "cell_type": "markdown",
   "metadata": {},
   "source": [
    "#### Inheritance:\n",
    "\n",
    "**Let's create a base class and a derived class:**\n",
    "\n",
    "Inheritance in Python allows a class (the derived or child class) to inherit attributes and methods from another class (the base or parent class). Let's create a base class `Shape` and a derived class `Circle`:\n",
    "\n",
    "---\n",
    "In this example:\n",
    "\n",
    "- The `Shape` class is the base class with a `color` attribute and a method to display the color.\n",
    "- The Circle class is the derived class that inherits from `Shape`. It adds a `radius` attribute and a method to display information about the circle.\n",
    "\n",
    "\n",
    "**Note**\n",
    "- In the derived class (`Circle`), we use `super().__init__(color)` to call the constructor of the base class (`Shape`). This allows the derived class to inherit and initialize the `color` attribute."
   ]
  },
  {
   "cell_type": "code",
   "execution_count": 4,
   "metadata": {},
   "outputs": [
    {
     "name": "stdout",
     "output_type": "stream",
     "text": [
      "The shape is Blue.\n",
      "This is a Blue circle with radius 5.\n"
     ]
    }
   ],
   "source": [
    "class Shape:\n",
    "    def __init__(self, color):\n",
    "        self.color = color\n",
    "\n",
    "    def display_color(self):\n",
    "        return f\"The shape is {self.color}.\"\n",
    "\n",
    "class Circle(Shape):\n",
    "    def __init__(self, color, radius):\n",
    "        super().__init__(color)\n",
    "        self.radius = radius\n",
    "\n",
    "    def display_info(self):\n",
    "        return f\"This is a {self.color} circle with radius {self.radius}.\"\n",
    "\n",
    "# Create an instance of the Circle class\n",
    "my_circle = Circle(\"Blue\", 5)\n",
    "\n",
    "# Access attributes from the base class\n",
    "color_info = my_circle.display_color()\n",
    "print(color_info)  # Output: The shape is Blue.\n",
    "\n",
    "# Access attributes from the derived class\n",
    "circle_info = my_circle.display_info()\n",
    "print(circle_info)  # Output: This is a Blue circle with radius 5."
   ]
  },
  {
   "cell_type": "markdown",
   "metadata": {},
   "source": [
    "#### Polymorphism:\n",
    "\n",
    "Polymorphism allows objects of different classes to be treated as objects of a common base class. This enables flexibility in the use of objects and methods. Let's create a simple example using a `Shape` base class and two derived classes, `Circle` and `Rectangle`:\n",
    "\n",
    "---\n",
    "\n",
    "In this example:\n",
    "\n",
    "- The `Shape` class is the base class with a method `area()` that is overridden in the derived classes.\n",
    "- The `Circle` and `Rectangle` classes are derived classes that inherit from Shape and provide their own implementation of the `area()` method.\n",
    "\n",
    "We then use polymorphism by passing instances of `Circle` and `Rectangle` to the `calculate_area` function, which accepts objects of the common base class `Shape`."
   ]
  },
  {
   "cell_type": "code",
   "execution_count": 5,
   "metadata": {},
   "outputs": [
    {
     "name": "stdout",
     "output_type": "stream",
     "text": [
      "Area of Circle: 78.5\n",
      "Area of Rectangle: 24\n"
     ]
    }
   ],
   "source": [
    "class Shape:\n",
    "    def area(self):\n",
    "        pass\n",
    "\n",
    "class Circle(Shape):\n",
    "    def __init__(self, radius):\n",
    "        self.radius = radius\n",
    "\n",
    "    def area(self):\n",
    "        return 3.14 * self.radius * self.radius\n",
    "\n",
    "class Rectangle(Shape):\n",
    "    def __init__(self, length, width):\n",
    "        self.length = length\n",
    "        self.width = width\n",
    "\n",
    "    def area(self):\n",
    "        return self.length * self.width\n",
    "\n",
    "# Function to calculate the area of any shape\n",
    "def calculate_area(shape):\n",
    "    return shape.area()\n",
    "\n",
    "# Create instances of Circle and Rectangle\n",
    "circle_instance = Circle(5)\n",
    "rectangle_instance = Rectangle(4, 6)\n",
    "\n",
    "# Use polymorphism to calculate areas\n",
    "circle_area = calculate_area(circle_instance)\n",
    "print(f\"Area of Circle: {circle_area}\")  # Output: Area of Circle: 78.5\n",
    "\n",
    "rectangle_area = calculate_area(rectangle_instance)\n",
    "print(f\"Area of Rectangle: {rectangle_area}\")  # Output: Area of Rectangle: 24"
   ]
  },
  {
   "cell_type": "markdown",
   "metadata": {},
   "source": [
    "## Method Overriding:\n",
    "\n",
    "### Let's see how to override methods in a derived class to provide a specific implementation:\n",
    "\n",
    "Method overriding allows a derived class to provide a specific implementation for a method that is already defined in its base class. The overridden method in the derived class should have the same signature (name and parameters) as the method in the base class. Let's use an example with a `Vehicle` base class and a `Car` derived class:\n",
    "\n",
    "---\n",
    "In this example:\n",
    "\n",
    "- The `Vehicle` class is the base class with a method `start_engine()`.\n",
    "- The `Car` class is a derived class that inherits from `Vehicle` and overrides the `start_engine()` method with a specific implementation.\n",
    "\n",
    "When we create instances of both `Vehicle` and `Car` and call the `start_engine()` method, each class's specific implementation is invoked."
   ]
  },
  {
   "cell_type": "code",
   "execution_count": 6,
   "metadata": {},
   "outputs": [
    {
     "name": "stdout",
     "output_type": "stream",
     "text": [
      "Engine started.\n",
      "Car engine started.\n"
     ]
    }
   ],
   "source": [
    "class Vehicle:\n",
    "    def start_engine(self):\n",
    "        return \"Engine started.\"\n",
    "\n",
    "class Car(Vehicle):\n",
    "    def start_engine(self):\n",
    "        return \"Car engine started.\"\n",
    "\n",
    "# Create instances of Vehicle and Car\n",
    "vehicle_instance = Vehicle()\n",
    "car_instance = Car()\n",
    "\n",
    "# Call the start_engine method on both instances\n",
    "vehicle_start = vehicle_instance.start_engine()\n",
    "print(vehicle_start)  # Output: Engine started.\n",
    "\n",
    "car_start = car_instance.start_engine()\n",
    "print(car_start)  # Output: Car engine started."
   ]
  },
  {
   "cell_type": "markdown",
   "metadata": {},
   "source": [
    "## Class Methods and Static Methods:\n",
    "\n",
    "Class methods and static methods are methods that are bound to the class rather than an instance of the class.\n",
    "\n",
    "- **Class Methods**: These methods take the class itself as the first parameter and can be called on the class, not on instances. They are defined using the `@classmethod` decorator.\n",
    "\n",
    "- **Static Methods**: These methods don't take the class or instance as their first parameter. They are defined using the `@staticmethod` decorator.\n",
    "\n",
    "Let's use an example with a `MathOperation` class:\n",
    "\n",
    "\n",
    "---\n",
    "In this example:\n",
    "\n",
    "- The `MathOperation` class has a class method `add()` and a static method `multiply()`"
   ]
  },
  {
   "cell_type": "code",
   "execution_count": 7,
   "metadata": {},
   "outputs": [
    {
     "name": "stdout",
     "output_type": "stream",
     "text": [
      "Class Method - Sum: 8\n",
      "Static Method - Product: 15\n"
     ]
    }
   ],
   "source": [
    "class MathOperation:\n",
    "    @classmethod\n",
    "    def add(cls, num1, num2):\n",
    "        return f\"Class Method - Sum: {num1 + num2}\"\n",
    "\n",
    "    @staticmethod\n",
    "    def multiply(num1, num2):\n",
    "        return f\"Static Method - Product: {num1 * num2}\"\n",
    "\n",
    "# Call class methods without creating instances\n",
    "class_sum = MathOperation.add(3, 5)\n",
    "print(class_sum)  # Output: Class Method - Sum: 8\n",
    "\n",
    "# Call static methods without creating instances\n",
    "static_product = MathOperation.multiply(3, 5)\n",
    "print(static_product)  # Output: Static Method - Product: 15\n"
   ]
  },
  {
   "cell_type": "markdown",
   "metadata": {},
   "source": [
    "## Special Methods (Magic Methods):\n",
    "\n",
    "Special methods, also known as magic methods or dunder methods, start and end with double underscores. They contribute to the behavior of objects in various situations. \n",
    "\n",
    "Special methods, also known as magic methods, allow customization of class behavior. They are surrounded by double underscores.\n",
    "\n",
    "__init__: Initializes an object when it is created.\n",
    "__str__: Returns a human-readable string representation of the object.\n",
    "__eq__: Compares two objects for equality.\n",
    "\n",
    "---\n",
    "\n",
    "In this example:\n",
    "\n",
    "- The `Book` class defines the `__init__`,` __str__`, and `__eq__` special methods.\n",
    "\n",
    "Let's use an example with a `Book` class:"
   ]
  },
  {
   "cell_type": "code",
   "execution_count": 8,
   "metadata": {},
   "outputs": [
    {
     "name": "stdout",
     "output_type": "stream",
     "text": [
      "Book: Python Basics by John Doe\n",
      "True\n",
      "False\n"
     ]
    }
   ],
   "source": [
    "class Book:\n",
    "    def __init__(self, title, author):\n",
    "        self.title = title\n",
    "        self.author = author\n",
    "\n",
    "    def __str__(self):\n",
    "        return f\"Book: {self.title} by {self.author}\"\n",
    "\n",
    "    def __eq__(self, other):\n",
    "        if isinstance(other, Book):\n",
    "            return self.title == other.title and self.author == other.author\n",
    "        return False\n",
    "\n",
    "# Create instances of the Book class\n",
    "book1 = Book(\"Python Basics\", \"John Doe\")\n",
    "book2 = Book(\"Python Basics\", \"John Doe\")\n",
    "book3 = Book(\"Advanced Python\", \"Jane Smith\")\n",
    "\n",
    "# Use special methods\n",
    "print(str(book1))  # Output: Book: Python Basics by John Doe\n",
    "print(book1 == book2)  # Output: True\n",
    "print(book1 == book3)  # Output: False\n"
   ]
  },
  {
   "cell_type": "markdown",
   "metadata": {},
   "source": [
    "## Composition:\n",
    "\n",
    "### Classes can be composed of other classes to achieve code reuse:\n",
    "\n",
    "Composition involves creating classes by combining existing classes as components. This promotes code reuse and allows for more flexible designs. Let's create an example with a `Author` class and a `Book` class using composition:\n",
    "\n",
    "---\n",
    "\n",
    "In this example:\n",
    "\n",
    "- The `Author` class has attributes for the author's name and nationality.\n",
    "- The `Book` class uses composition by having an instance of the `Author` class as one of its attributes.\n",
    "\n",
    "This way, the `Book` class can reuse the `Author` class to represent information about the book's author."
   ]
  },
  {
   "cell_type": "code",
   "execution_count": 9,
   "metadata": {},
   "outputs": [
    {
     "name": "stdout",
     "output_type": "stream",
     "text": [
      "Book: Python Mastery, Author: John Doe, Nationality: American\n"
     ]
    }
   ],
   "source": [
    "class Author:\n",
    "    def __init__(self, name, nationality):\n",
    "        self.name = name\n",
    "        self.nationality = nationality\n",
    "\n",
    "class Book:\n",
    "    def __init__(self, title, author):\n",
    "        self.title = title\n",
    "        self.author = author\n",
    "\n",
    "    def display_info(self):\n",
    "        return f\"Book: {self.title}, Author: {self.author.name}, Nationality: {self.author.nationality}\"\n",
    "\n",
    "# Create instances of Author and Book\n",
    "author = Author(\"John Doe\", \"American\")\n",
    "book = Book(\"Python Mastery\", author)\n",
    "\n",
    "# Use composition to display information\n",
    "book_info = book.display_info()\n",
    "print(book_info)  # Output: Book: Python Mastery, Author: John Doe, Nationality: American\n"
   ]
  },
  {
   "cell_type": "markdown",
   "metadata": {},
   "source": [
    "## Decorator Pattern in OOP:\n",
    "\n",
    "#### Decorators can be used within classes to modify or extend the behavior of methods:\n",
    "\n",
    "The decorator pattern is a structural pattern that allows behavior to be added to individual objects, either statically or dynamically, without affecting the behavior of other objects from the same class. Let's use an example with a `Coffee` class:\n",
    "\n",
    "---\n",
    "\n",
    "In this example:\n",
    "\n",
    "- The `Coffee` class has a method `cost()` that returns the cost of a simple coffee.\n",
    "- The `MilkDecorator` class is a decorator that adds the cost of milk to the original cost.\n",
    "\n",
    "We then create instances of `Coffee` and `MilkDecorator` to show how decorators modify or extend the behavior of methods."
   ]
  },
  {
   "cell_type": "code",
   "execution_count": 10,
   "metadata": {},
   "outputs": [
    {
     "name": "stdout",
     "output_type": "stream",
     "text": [
      "Simple Coffee Cost: $5\n",
      "Milk Coffee Cost: $7\n"
     ]
    }
   ],
   "source": [
    "class Coffee:\n",
    "    def cost(self):\n",
    "        return 5\n",
    "\n",
    "class MilkDecorator:\n",
    "    def __init__(self, coffee):\n",
    "        self._coffee = coffee\n",
    "\n",
    "    def cost(self):\n",
    "        return self._coffee.cost() + 2\n",
    "\n",
    "# Create instances of Coffee and MilkDecorator\n",
    "simple_coffee = Coffee()\n",
    "milk_coffee = MilkDecorator(simple_coffee)\n",
    "\n",
    "# Use decorators to modify behavior\n",
    "simple_cost = simple_coffee.cost()\n",
    "print(f\"Simple Coffee Cost: ${simple_cost}\")  # Output: Simple Coffee Cost: $5\n",
    "\n",
    "milk_cost = milk_coffee.cost()\n",
    "print(f\"Milk Coffee Cost: ${milk_cost}\")  # Output: Milk Coffee Cost: $7"
   ]
  },
  {
   "cell_type": "markdown",
   "metadata": {},
   "source": [
    "## Class Attributes vs. Instance Attributes:\n",
    "\n",
    "In Python, attributes can be associated with both the class itself (class attributes) and instances of the class (instance attributes).\n",
    "\n",
    "- **Class Attributes:** Shared by all instances of a class. They are defined outside of any method in the class and are accessed using the class name.\n",
    "\n",
    "- **Instance Attributes:** Specific to each instance of a class. They are defined inside the constructor method (`__init__`) using the `self` keyword.\n",
    "\n",
    "Let's illustrate this with a `Dog` class:\n",
    "\n",
    "---\n",
    "\n",
    "In this example:\n",
    "\n",
    "- The `Dog` class has a class attribute `species` shared by all instances.\n",
    "- The constructor method (`__init__`) defines instance attributes `name` and `age`."
   ]
  },
  {
   "cell_type": "code",
   "execution_count": 11,
   "metadata": {},
   "outputs": [
    {
     "name": "stdout",
     "output_type": "stream",
     "text": [
      "Buddy is 3 years old and is a Canis familiaris.\n",
      "Max is 5 years old and is also a Canis familiaris.\n"
     ]
    }
   ],
   "source": [
    "class Dog:\n",
    "    # Class attribute\n",
    "    species = \"Canis familiaris\"\n",
    "\n",
    "    def __init__(self, name, age):\n",
    "        # Instance attributes\n",
    "        self.name = name\n",
    "        self.age = age\n",
    "\n",
    "# Create instances of the Dog class\n",
    "dog1 = Dog(\"Buddy\", 3)\n",
    "dog2 = Dog(\"Max\", 5)\n",
    "\n",
    "# Access class and instance attributes\n",
    "print(f\"{dog1.name} is {dog1.age} years old and is a {dog1.species}.\")\n",
    "print(f\"{dog2.name} is {dog2.age} years old and is also a {dog2.species}.\")"
   ]
  },
  {
   "cell_type": "markdown",
   "metadata": {},
   "source": [
    "## Class Variables and Instance Variables:\n",
    "\n",
    "Class variables are shared among all instances of a class, while instance variables are specific to each instance. Changes to class variables affect all instances, while changes to instance variables only affect the specific instance.\n",
    "\n",
    "Let's demonstrate this with a `Counter` class:\n",
    "\n",
    "\n",
    "---\n",
    "\n",
    "In this example:\n",
    "\n",
    "- The `Counter` class has a class variable `count` shared by all instances.\n",
    "- The constructor method (`__init__`) increments the class variable and defines an instance variable `instance_count`."
   ]
  },
  {
   "cell_type": "code",
   "execution_count": 12,
   "metadata": {},
   "outputs": [
    {
     "name": "stdout",
     "output_type": "stream",
     "text": [
      "Class Variable Count: 2\n",
      "Instance 1 Variable: 1\n",
      "Instance 2 Variable: 2\n"
     ]
    }
   ],
   "source": [
    "class Counter:\n",
    "    # Class variable\n",
    "    count = 0\n",
    "\n",
    "    def __init__(self):\n",
    "        # Increment the class variable on instance creation\n",
    "        Counter.count += 1\n",
    "        # Instance variable\n",
    "        self.instance_count = Counter.count\n",
    "\n",
    "# Create instances of the Counter class\n",
    "counter1 = Counter()\n",
    "counter2 = Counter()\n",
    "\n",
    "# Access class and instance variables\n",
    "print(f\"Class Variable Count: {Counter.count}\")\n",
    "print(f\"Instance 1 Variable: {counter1.instance_count}\")\n",
    "print(f\"Instance 2 Variable: {counter2.instance_count}\")\n"
   ]
  },
  {
   "cell_type": "markdown",
   "metadata": {},
   "source": [
    "## Abstract Classes and Interfaces:\n",
    "\n",
    "In object-oriented programming, abstract classes and interfaces provide a way to design class hierarchies, ensuring that certain methods are implemented in derived classes. Abstract classes may contain abstract methods, while interfaces define a contract that implementing classes must adhere to.\n",
    "\n",
    "#### Abstract Classes:\n",
    "\n",
    "Let's create an abstract class `Shape` with an abstract method `area()`:\n",
    "\n",
    "---\n",
    "\n",
    "In this example:\n",
    "\n",
    "- The `Shape` class is an abstract class with an abstract method `area()`.\n",
    "- The `Circle` and `Square` classes are derived from `Shape` and implement the `area()` method."
   ]
  },
  {
   "cell_type": "code",
   "execution_count": 13,
   "metadata": {},
   "outputs": [
    {
     "name": "stdout",
     "output_type": "stream",
     "text": [
      "Circle Area: 78.5\n",
      "Square Area: 16\n"
     ]
    }
   ],
   "source": [
    "from abc import ABC, abstractmethod\n",
    "\n",
    "class Shape(ABC):\n",
    "    @abstractmethod\n",
    "    def area(self):\n",
    "        pass\n",
    "\n",
    "# Create a derived class Circle\n",
    "class Circle(Shape):\n",
    "    def __init__(self, radius):\n",
    "        self.radius = radius\n",
    "\n",
    "    def area(self):\n",
    "        return 3.14 * self.radius ** 2\n",
    "\n",
    "# Create a derived class Square\n",
    "class Square(Shape):\n",
    "    def __init__(self, side):\n",
    "        self.side = side\n",
    "\n",
    "    def area(self):\n",
    "        return self.side ** 2\n",
    "\n",
    "# Create instances of Circle and Square\n",
    "circle = Circle(5)\n",
    "square = Square(4)\n",
    "\n",
    "# Access areas using abstract class methods\n",
    "print(f\"Circle Area: {circle.area()}\")\n",
    "print(f\"Square Area: {square.area()}\")"
   ]
  },
  {
   "cell_type": "markdown",
   "metadata": {},
   "source": [
    "#### Interfaces:\n",
    "Let's create an interface Printable with a method `print_info()`:\n",
    "\n",
    "---\n",
    "\n",
    "In this example:\n",
    "\n",
    "- The `Printable` class is an interface with an abstract method `print_info()`.\n",
    "- The `Book` class implements the `Printable` interface.\n"
   ]
  },
  {
   "cell_type": "code",
   "execution_count": 14,
   "metadata": {},
   "outputs": [
    {
     "name": "stdout",
     "output_type": "stream",
     "text": [
      "Book: Python Programming, Author: John Doe\n"
     ]
    }
   ],
   "source": [
    "from abc import ABC, abstractmethod\n",
    "\n",
    "class Printable(ABC):\n",
    "    @abstractmethod\n",
    "    def print_info(self):\n",
    "        pass\n",
    "\n",
    "# Create a class Book implementing the Printable interface\n",
    "class Book(Printable):\n",
    "    def __init__(self, title, author):\n",
    "        self.title = title\n",
    "        self.author = author\n",
    "\n",
    "    def print_info(self):\n",
    "        print(f\"Book: {self.title}, Author: {self.author}\")\n",
    "\n",
    "# Create an instance of Book\n",
    "book = Book(\"Python Programming\", \"John Doe\")\n",
    "\n",
    "# Use the Printable interface method\n",
    "book.print_info()"
   ]
  },
  {
   "cell_type": "markdown",
   "metadata": {},
   "source": [
    "# Challenge\n",
    "---\n",
    "\n",
    "Below are some less guided challenge questions. Instructions are provided for each task, but you will be required to create a new classes and implement methods for each class."
   ]
  },
  {
   "cell_type": "markdown",
   "metadata": {},
   "source": [
    "### Task 1: Classes and Objects\n",
    "\n",
    "#### Instructions:\n",
    "---\n",
    "1. Create a class named Person with attributes name and age.\n",
    "2. Add a method greet() that prints a greeting message using the person's name.\n",
    "3. Create an instance of the Person class, set values for name and age, and call the greet() method."
   ]
  },
  {
   "cell_type": "code",
   "execution_count": 18,
   "metadata": {},
   "outputs": [
    {
     "name": "stdout",
     "output_type": "stream",
     "text": [
      "Hello, my name is Alice\n"
     ]
    }
   ],
   "source": [
    "### BEGIN SOLUTION\n",
    "class Person:\n",
    "    def __init__(self, name, age):\n",
    "        self.age = age\n",
    "        self.name = name\n",
    "    \n",
    "    def greet(self):\n",
    "        print(\"Hello, my name is\", self.name)\n",
    "\n",
    "person = Person(\"Alice\", 25)\n",
    "person.greet()\n",
    "### END SOLUTION\n"
   ]
  },
  {
   "cell_type": "code",
   "execution_count": 19,
   "metadata": {},
   "outputs": [],
   "source": [
    "## Task 1: Classes and Objects Test\n",
    "### BEGIN TESTS\n",
    "person_instance = Person(\"Alice\", 25)\n",
    "assert person_instance.name == \"Alice\"\n",
    "assert person_instance.age == 25\n",
    "### END TESTS"
   ]
  },
  {
   "cell_type": "markdown",
   "metadata": {},
   "source": [
    "### Task 2: Encapsulation\n",
    "\n",
    "#### Instructions:\n",
    "---\n",
    "1. Modify the Person class to make the age attribute private.\n",
    "2. Provide a method get_age() to retrieve the value of the private age attribute."
   ]
  },
  {
   "cell_type": "code",
   "execution_count": 14,
   "metadata": {},
   "outputs": [
    {
     "name": "stdout",
     "output_type": "stream",
     "text": [
      "Alice is 25 years old \n"
     ]
    }
   ],
   "source": [
    "### BEGIN SOLUTION\n",
    "class Person:\n",
    "    def __init__(self, name, age):\n",
    "        self.__age = age\n",
    "        self.name = name\n",
    "    \n",
    "    def greet(self):\n",
    "        print(\"Hello, my name is\", self.name)\n",
    "\n",
    "    def get_age(self):\n",
    "        return self.__age\n",
    "    \n",
    "    def get_name(self):\n",
    "        return self.name\n",
    "\n",
    "person = Person(\"Alice\", 25)\n",
    "print(person.get_name(), \"is\",person.get_age(), \"years old \")\n",
    "\n",
    "### END SOLUTION\n"
   ]
  },
  {
   "cell_type": "code",
   "execution_count": 12,
   "metadata": {},
   "outputs": [],
   "source": [
    "# Task 2: Encapsulation\n",
    "### BEGIN TESTS\n",
    "person_instance = Person(\"Alice\", 25)\n",
    "assert person_instance.get_age() == 25\n",
    "### END TESTS"
   ]
  },
  {
   "cell_type": "markdown",
   "metadata": {},
   "source": [
    "### Task 3: Inheritance\n",
    "\n",
    "#### Instructions:\n",
    "---\n",
    "1. Create a base class Animal with attributes name and sound.\n",
    "2. Add a method make_sound() that prints the sound of the animal.\n",
    "3. Create a derived class Dog that inherits from Animal and has an additional attribute breed.\n",
    "4. Override the make_sound() method in the Dog class to include the breed in the output."
   ]
  },
  {
   "cell_type": "code",
   "execution_count": 3,
   "metadata": {},
   "outputs": [
    {
     "ename": "TypeError",
     "evalue": "Animal.__init__() missing 2 required positional arguments: 'name' and 'sound'",
     "output_type": "error",
     "traceback": [
      "\u001b[1;31m---------------------------------------------------------------------------\u001b[0m",
      "\u001b[1;31mTypeError\u001b[0m                                 Traceback (most recent call last)",
      "Cell \u001b[1;32mIn[3], line 21\u001b[0m\n\u001b[0;32m     18\u001b[0m         \u001b[38;5;28;01mreturn\u001b[39;00m \u001b[38;5;28mself\u001b[39m\u001b[38;5;241m.\u001b[39mbreed, \u001b[38;5;28mself\u001b[39m\u001b[38;5;241m.\u001b[39msound\n\u001b[0;32m     20\u001b[0m animal \u001b[38;5;241m=\u001b[39m Animal(\u001b[38;5;124m\"\u001b[39m\u001b[38;5;124mCat\u001b[39m\u001b[38;5;124m\"\u001b[39m, \u001b[38;5;124m\"\u001b[39m\u001b[38;5;124mMeow\u001b[39m\u001b[38;5;124m\"\u001b[39m)\n\u001b[1;32m---> 21\u001b[0m dog \u001b[38;5;241m=\u001b[39m \u001b[43mDog\u001b[49m\u001b[43m(\u001b[49m\u001b[38;5;124;43m\"\u001b[39;49m\u001b[38;5;124;43mBuddy\u001b[39;49m\u001b[38;5;124;43m\"\u001b[39;49m\u001b[43m,\u001b[49m\u001b[43m \u001b[49m\u001b[38;5;124;43m\"\u001b[39;49m\u001b[38;5;124;43mWoof\u001b[39;49m\u001b[38;5;124;43m\"\u001b[39;49m\u001b[43m,\u001b[49m\u001b[43m \u001b[49m\u001b[38;5;124;43m\"\u001b[39;49m\u001b[38;5;124;43mGolden Retriever\u001b[39;49m\u001b[38;5;124;43m\"\u001b[39;49m\u001b[43m)\u001b[49m\n\u001b[0;32m     25\u001b[0m \u001b[38;5;66;03m### END SOLUTION\u001b[39;00m\n",
      "Cell \u001b[1;32mIn[3], line 12\u001b[0m, in \u001b[0;36mDog.__init__\u001b[1;34m(self, name, sound, breed)\u001b[0m\n\u001b[0;32m     11\u001b[0m \u001b[38;5;28;01mdef\u001b[39;00m \u001b[38;5;21m__init__\u001b[39m(\u001b[38;5;28mself\u001b[39m, name, sound, breed):\n\u001b[1;32m---> 12\u001b[0m     \u001b[38;5;28;43msuper\u001b[39;49m\u001b[43m(\u001b[49m\u001b[43m)\u001b[49m\u001b[38;5;241;43m.\u001b[39;49m\u001b[38;5;21;43m__init__\u001b[39;49m\u001b[43m(\u001b[49m\u001b[43m)\u001b[49m\n\u001b[0;32m     13\u001b[0m     \u001b[38;5;28mself\u001b[39m\u001b[38;5;241m.\u001b[39mname \u001b[38;5;241m=\u001b[39m name\n\u001b[0;32m     14\u001b[0m     \u001b[38;5;28mself\u001b[39m\u001b[38;5;241m.\u001b[39msound \u001b[38;5;241m=\u001b[39m sound\n",
      "\u001b[1;31mTypeError\u001b[0m: Animal.__init__() missing 2 required positional arguments: 'name' and 'sound'"
     ]
    }
   ],
   "source": [
    "### BEGIN SOLUTION\n",
    "class Animal:\n",
    "    def __init__(self, name ,sound):\n",
    "        self.name = name\n",
    "        self.sound = sound\n",
    "    \n",
    "    def make_sound(self):\n",
    "        print(\"The\", self.name, \"says\", self.sound)\n",
    "    \n",
    "class Dog(Animal):\n",
    "    def __init__(self, name, sound, breed):\n",
    "        super().__init__(name, sound)\n",
    "        self.breed = breed\n",
    "    \n",
    "    def make_sound(self):\n",
    "        print(\"The\", self.breed, \"dog named \", self.name, \"says\", self.sound)\n",
    "\n",
    "\n",
    "### END SOLUTION\n"
   ]
  },
  {
   "cell_type": "code",
   "execution_count": null,
   "metadata": {},
   "outputs": [],
   "source": [
    "# Task 3: Inheritance - Testing\n",
    "### BEGIN TESTS\n",
    "animal_instance = Animal(\"Cat\", \"Meow\")\n",
    "dog_instance = Dog(\"Buddy\", \"Woof\", \"Golden Retriever\")\n",
    "\n",
    "# Check Animal class attributes and method\n",
    "assert animal_instance.name == \"Cat\"\n",
    "assert animal_instance.sound == \"Meow\"\n",
    "assert callable(getattr(animal_instance, \"make_sound\", None))\n",
    "\n",
    "# Check Dog class attributes and method\n",
    "assert dog_instance.name == \"Buddy\"\n",
    "assert dog_instance.sound == \"Woof\"\n",
    "assert dog_instance.breed == \"Golden Retriever\"\n",
    "assert callable(getattr(dog_instance, \"make_sound\", None))\n",
    "\n",
    "# Check if make_sound() produces the expected output\n",
    "assert_output = \"The Cat says Meow.\"\n",
    "assert_output_dog = \"The Golden Retriever dog named Buddy says Woof.\"\n",
    "assert_output_method = \"\"\"The Cat says Meow.\n",
    "The Golden Retriever dog named Buddy says Woof.\"\"\"\n",
    "### END TESTS\n"
   ]
  }
 ],
 "metadata": {
  "kernelspec": {
   "display_name": "Python 3",
   "language": "python",
   "name": "python3"
  },
  "language_info": {
   "codemirror_mode": {
    "name": "ipython",
    "version": 3
   },
   "file_extension": ".py",
   "mimetype": "text/x-python",
   "name": "python",
   "nbconvert_exporter": "python",
   "pygments_lexer": "ipython3",
   "version": "3.10.11"
  }
 },
 "nbformat": 4,
 "nbformat_minor": 2
}
