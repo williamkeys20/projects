{
 "cells": [
  {
   "cell_type": "markdown",
   "metadata": {},
   "source": [
    "## Healing Potion Shop\n",
    "---\n",
    "\n",
    "## Objective\n",
    "---\n",
    "In this programming assignment, you will be creating a text-based game feature that involves a Healing Potion Shop. The primary focus is on reinforcing the concepts of error handling and functions in Python.\n",
    "\n",
    "The Healing Potion Shop is an essential part of any adventure, offering players the opportunity to replenish their health and continue their journey. Your task is to implement the core functionality of the shop, allowing players to buy and sell healing potions while handling potential errors gracefully."
   ]
  },
  {
   "cell_type": "markdown",
   "metadata": {},
   "source": [
    "#### Function 1: display_shop_menu\n",
    "- **Parameters:** _None_\n",
    "- **Returns:** _None. Prints shop menu choices to terminal_"
   ]
  },
  {
   "cell_type": "code",
   "execution_count": 1,
   "metadata": {},
   "outputs": [],
   "source": [
    "def display_shop_menu():\n",
    "    print(\"=== Healing Potion Shop ===\")\n",
    "    print(\"1. Buy Healing Potion\")\n",
    "    print(\"2. Sell Inventory\")\n",
    "    print(\"3. Exit\")"
   ]
  },
  {
   "cell_type": "markdown",
   "metadata": {},
   "source": [
    "#### Function 2: purchase_potions\n",
    "- **Parameters:** _currency(int), inventory(dict)_\n",
    "- **Returns:** _None. Hadles logic for the purchase functionality for the potions shop. Checks if user input for purchase quantity is an integer. Checks if user has enough money(currency) to purchase potions_\n",
    "\n",
    "\n",
    "INSTRUCTIONS\n",
    "\n",
    "------\n",
    "1. Implement exception handling to check if `quantity_str` is an integer.\n",
    "    - if the integer is less than 0, print the message: **_\"Error: Please enter a positive quantity.\"_** and `return` the current `currency`and `inventory`\n",
    "    - if the user enters a non-number, catch the error and print the message: **_\"Error: Please enter a valid integer for the quantity.\"_** and `return` the current `currency`and `inventory`\n",
    "2. Calculate the total cost of the user's purchase (_Potions cost 10 gold coins each. Make sure to subtract the total amount of coins from the user's currency based on how many potions they purchase_)\n",
    "    - If the total cost of the potions purchased is more than how much gold(`currency`) the user currently has, print the message: **_\"Error: Insufficient funds.\"_** and and `return` the current `currency`and `inventory`\n",
    "3. Deduct the total purchase cost from the user's `currency`\n",
    "4. Update the `Healing Potion` quantity in the user's `inventory`"
   ]
  },
  {
   "cell_type": "markdown",
   "metadata": {},
   "source": []
  },
  {
   "cell_type": "code",
   "execution_count": 2,
   "metadata": {},
   "outputs": [],
   "source": [
    "def purchase_potions(currency, inventory):\n",
    "    potion_cost = 10  # Cost of each healing potion in gold coins\n",
    "\n",
    "    # Prompt the user to choose the quantity of healing potions\n",
    "    try:\n",
    "        quantity_str = input(\"How many potions would you like to buy? \")\n",
    "        quantity = int(quantity_str)\n",
    "        assert(quantity_str.isnumeric())\n",
    "    except ValueError:\n",
    "            print(\"Error: Please enter a valid integer for the quantity.\")\n",
    "            return currency, inventory\n",
    "    \n",
    "    except AssertionError:\n",
    "        print(\"Error: Please enter a positive quantity.\")\n",
    "        return currency, inventory\n",
    "   \n",
    "    \n",
    "    total_cost = quantity * potion_cost \n",
    "    total_purchase = total_cost - currency\n",
    "\n",
    "    try:\n",
    "       assert total_purchase < currency\n",
    "    except AssertionError:\n",
    "        print(\"Error: Insufficient funds.\")\n",
    "        return currency, inventory\n",
    "    inventory[\"Healing Potion\"]=quantity\n",
    "\n",
    "\n",
    "    ### BEGIN SOLUTION\n",
    "    \n",
    "    ### END SOLUTION\n",
    "    print(f\"Purchase successful! Total cost: {total_cost} gold coins\")\n",
    "    return currency, inventory"
   ]
  },
  {
   "cell_type": "markdown",
   "metadata": {},
   "source": [
    "#### Function 3: display_inventory\n",
    "- **Parameters:** _inventory (dict)_\n",
    "- **Returns:** _None. Prints user's current inventory._"
   ]
  },
  {
   "cell_type": "code",
   "execution_count": 3,
   "metadata": {},
   "outputs": [],
   "source": [
    "def display_inventory(inventory):\n",
    "    print(\"=== Inventory ===\")\n",
    "    for potion, quantity in inventory.items():\n",
    "        print(f\"{potion}: {quantity}\")\n"
   ]
  },
  {
   "cell_type": "markdown",
   "metadata": {},
   "source": [
    "#### Function 4: sell_inventory\n",
    "- **Parameters:** _currency(int), inventory(dict)_\n",
    "- **Returns:** _None. Hadles logic for the potions shop's sell function. Checks if user input for selling quantity is an integer. Checks if user has enough Healing Potions to sell the entered amount_\n",
    "\n",
    "\n",
    "\n",
    "INSTRUCTIONS\n",
    "\n",
    "------\n",
    "\n",
    "1. Implement exception handling to check if `quantity_str` is an integer.\n",
    "    - If the integer is less than 0, print the message: **_\"Error: Please enter a positive quantity.\"_** and `return` the current `currency`and `inventory`.\n",
    "    - If the user enters a non-number, catch the error and print the message: **_\"Error: Please enter a valid integer for the quantity.\"_** and `return` the current `currency`and `inventory`.\n",
    "\n",
    "2. Check if the player has enough healing potions to sell.\n",
    "    - If the quantity to sell is greater than the number of healing potions in the player's `inventory`, print the message: **_\"Error: You don't have enough potions to sell.\"_** and `return` the current `currency`and `inventory`.\n",
    "\n",
    "3. Calculate the amount of gold the player will earn from selling the potions.\n",
    "    - Assume a selling price of 5 gold coins per potion.\n",
    "    - Update the player's `currency` by adding the earned gold.\n",
    "\n",
    "4. Update the player's inventory by subtracting the sold quantity of `Healing Potions`."
   ]
  },
  {
   "cell_type": "code",
   "execution_count": 4,
   "metadata": {},
   "outputs": [],
   "source": [
    "def sell_inventory(currency, inventory):\n",
    "    # Display the current inventory\n",
    "    display_inventory(inventory)\n",
    "\n",
    "    # Prompt the user to choose the quantity of healing potions to sell\n",
    "    try:\n",
    "        quantity_str = input(\"How many potions would you like to sell? \")\n",
    "        quantity_num = int(quantity_str)\n",
    "    except ValueError:\n",
    "        print(\"Error:Please enter a positive quantity\")\n",
    "        return currency, inventory\n",
    "    try:\n",
    "        quantity = int(quantity_str)\n",
    "    except ValueError:\n",
    "        print(\"Error: Please enter a valid integer for the quantity\")\n",
    "        return currency, inventory\n",
    "    num_potions = inventory.values()\n",
    "    try:\n",
    "        for potion in num_potions:\n",
    "            #print(potion)\n",
    "            assert(quantity < potion)\n",
    "        \n",
    "    except AssertionError:\n",
    "        print(\"Error You don't have enough potions to sell\")\n",
    "        return currency, inventory      \n",
    "    sold_amount = 5 * quantity\n",
    "    currency +=sold_amount\n",
    "    inventory[\"Healing Potion\"]-=quantity \n",
    "\n",
    "    ### BEGIN SOLUTION\n",
    "\n",
    "\n",
    "    ### END SOLUTION\n",
    "    \n",
    "    print(f\"Sell successful! Earned: {sold_amount} gold coins\")\n",
    "    return currency, inventory\n",
    "\n",
    "#This calls the function so you can test the functionality\n",
    "###############################################################\n",
    "##############################################################\n",
    "# Make sure this is commented out for unit testing\n",
    "#############################################################\n",
    "#############################################################\n",
    "#sell_inventory(100, {\"Healing Potion\": 5})\n"
   ]
  },
  {
   "cell_type": "markdown",
   "metadata": {},
   "source": [
    "#### Function 5: main\n",
    "- **Parameters:** _None_\n",
    "- **Returns:** _Main game loop. Calls all other functions_"
   ]
  },
  {
   "cell_type": "code",
   "execution_count": 5,
   "metadata": {},
   "outputs": [
    {
     "name": "stdout",
     "output_type": "stream",
     "text": [
      "=== Healing Potion Shop ===\n",
      "1. Buy Healing Potion\n",
      "2. Sell Inventory\n",
      "3. Exit\n",
      "Invalid choice. Please enter a number between 1 and 3.\n",
      "=== Healing Potion Shop ===\n",
      "1. Buy Healing Potion\n",
      "2. Sell Inventory\n",
      "3. Exit\n",
      "Purchase successful! Total cost: 10 gold coins\n",
      "=== Healing Potion Shop ===\n",
      "1. Buy Healing Potion\n",
      "2. Sell Inventory\n",
      "3. Exit\n",
      "Invalid choice. Please enter a number between 1 and 3.\n",
      "=== Healing Potion Shop ===\n",
      "1. Buy Healing Potion\n",
      "2. Sell Inventory\n",
      "3. Exit\n",
      "=== Inventory ===\n",
      "Healing Potion: 1\n",
      "Error You don't have enough potions to sell\n",
      "=== Healing Potion Shop ===\n",
      "1. Buy Healing Potion\n",
      "2. Sell Inventory\n",
      "3. Exit\n",
      "Invalid choice. Please enter a number between 1 and 3.\n",
      "=== Healing Potion Shop ===\n",
      "1. Buy Healing Potion\n",
      "2. Sell Inventory\n",
      "3. Exit\n",
      "Thank you for visiting the Healing Potion Shop!\n"
     ]
    }
   ],
   "source": [
    "def main():\n",
    "    player_currency = 100  # Initial amount of in-game currency\n",
    "    player_inventory = {\"Healing Potion\": 0}\n",
    "\n",
    "    while True:\n",
    "        display_shop_menu()\n",
    "\n",
    "        choice = input(\"Enter your choice (1-3): \")\n",
    "\n",
    "        if choice == \"1\":\n",
    "            # Buy Healing Potion\n",
    "            player_curreny,player_inventory = purchase_potions(player_currency, player_inventory)\n",
    "        elif choice == \"2\":\n",
    "            # Sell Inventory\n",
    "            player_curreny,player_inventory = sell_inventory(player_currency, player_inventory)\n",
    "        elif choice == \"3\":\n",
    "            # Exit\n",
    "            print(\"Thank you for visiting the Healing Potion Shop!\")\n",
    "            break\n",
    "        else:\n",
    "            print(\"Invalid choice. Please enter a number between 1 and 3.\")\n",
    "\n",
    "if __name__ == \"__main__\":\n",
    "    main()"
   ]
  }
 ],
 "metadata": {
  "kernelspec": {
   "display_name": "base",
   "language": "python",
   "name": "python3"
  },
  "language_info": {
   "codemirror_mode": {
    "name": "ipython",
    "version": 3
   },
   "file_extension": ".py",
   "mimetype": "text/x-python",
   "name": "python",
   "nbconvert_exporter": "python",
   "pygments_lexer": "ipython3",
   "version": "3.10.11"
  }
 },
 "nbformat": 4,
 "nbformat_minor": 2
}
