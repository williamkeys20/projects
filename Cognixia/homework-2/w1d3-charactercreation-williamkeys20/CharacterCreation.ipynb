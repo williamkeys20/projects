{
 "cells": [
  {
   "cell_type": "markdown",
   "metadata": {},
   "source": [
    "# Character Creation \n",
    "---\n",
    "\n",
    "\n",
    "## Objective\n",
    "---\n",
    "\n",
    "You must create the function for the game mechanic which will allow users to create their characters. Users will have a choice of name, class, age, and a catchphrase. We will assume users give us valid answers for all input statements. You will be responsible for making sure all inputed answers are reformatted to a standard output.\n",
    "\n",
    "\n",
    "## Instructions\n",
    "---\n",
    "\n",
    "Prompt the user for a name \n",
    "-\tThe name should be saved with the first letter capitalized, and every other letter lower case in the name (E.G. Christina torres)\n",
    "\n",
    "Prompt the user for an age\n",
    "-\tCast the age to an integer\n",
    "-\tCalculate the character's birth year\n",
    "\n",
    "Prompt the user for a character class\n",
    "-\tSave the class in a string with all uppercase characters (E.G. KNIGHT)\n",
    "\n",
    "Prompt the user for a character catch phrase\n",
    "\n",
    "\n",
    "Print the results to the terminal\n",
    "-\tIn a single line output, show the saved characters name, year of birth, and class\n",
    "-\tIn another line print the character catchphrase reversed (e.g. “Ahoy Matey!” -> “!yetaM yohA”\n",
    "\n",
    "## **Example Output:**\n",
    "---\n",
    "\n",
    "**Input**\n",
    "```What is your full name?: arthur\n",
    "\n",
    "What is your age?: 22\n",
    "\n",
    "What is your class? Knight, Warrior, Healer?: knight\n",
    "\n",
    "What is your catchphrase?: Let's go\n",
    "```\n",
    "**Output**\n",
    "```\n",
    "Arthur, 2001, KNIGHT\n",
    "\n",
    "og s'teL!\n",
    "```"
   ]
  },
  {
   "cell_type": "markdown",
   "metadata": {},
   "source": [
    "In the code cell below, the input functions have already been given with the correct input prompts. Replace the note that says [YOUR CODE HERE] with your code (the answer should be inside the CharacterCreation function defintion)\n",
    "\n",
    " **_make sure to remove the [raise NotImplementedError] when you are finished_**"
   ]
  },
  {
   "cell_type": "code",
   "execution_count": null,
   "metadata": {},
   "outputs": [],
   "source": [
    "def CharacterCreation():\n",
    "    name = input(\"What is your full name?: \")\n",
    "    age = input(\"What is your age?: \")\n",
    "    Class = input(\"What is your class? Knight, Warrior, Healer?: \")\n",
    "    catchphrase = input(\"What is your catchphrase?: \")\n",
    "    \n",
    "    current_year = datetime.datetime.now().year\n",
    "    birth_year = current_year - age\n",
    "    print(name.capitalize(), \",\", birth_year, \",\", Class)\n",
    "    print(catchphrase[::-1])\n",
    "\n",
    "    \n",
    "    #Make sure the name is capitalized\n",
    "    #Find the character's birth year (Assume they're born January 1st)\n",
    "    #Make sure the chosen class is upper case\n",
    "    #Make sure you reverse the catchphrase\n",
    "\n",
    "    ### BEGIN SOLUTION\n",
    "    \n",
    "    ### END SOLUTION\n",
    "\n",
    "\n",
    "#This calls the function so you can test the functionality\n",
    "###############################################################\n",
    "##############################################################\n",
    "# Make sure this is commented out for unit testing\n",
    "#############################################################\n",
    "#############################################################\n",
    "#CharacterCreation()"
   ]
  }
 ],
 "metadata": {
  "kernelspec": {
   "display_name": "Python 3",
   "language": "python",
   "name": "python3"
  },
  "language_info": {
   "codemirror_mode": {
    "name": "ipython",
    "version": 3
   },
   "file_extension": ".py",
   "mimetype": "text/x-python",
   "name": "python",
   "nbconvert_exporter": "python",
   "pygments_lexer": "ipython3",
   "version": "3.12.3"
  }
 },
 "nbformat": 4,
 "nbformat_minor": 2
}
